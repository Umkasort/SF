{
 "cells": [
  {
   "cell_type": "code",
   "execution_count": 55,
   "metadata": {},
   "outputs": [
    {
     "data": {
      "text/plain": [
       "67.06"
      ]
     },
     "execution_count": 55,
     "metadata": {},
     "output_type": "execute_result"
    }
   ],
   "source": [
    "import pandas as pd \n",
    "\n",
    "covid_data=pd.read_csv('data/covid_data.csv')\n",
    "va_data=pd.read_csv('data/country_vaccinations.csv')\n",
    "covid_data=covid_data.groupby(['date','country'], as_index=False)[['confirmed','deaths','recovered']].sum()\n",
    "covid_data['date']=pd.to_datetime(covid_data['date'])\n",
    "covid_data['active']=covid_data['confirmed']-covid_data['deaths']-covid_data['recovered']\n",
    "covid_data=covid_data.sort_values(by=['country','date'])\n",
    "covid_data['daily_confirmed']=covid_data.groupby('country')['confirmed'].diff()\n",
    "covid_data['daily_deaths']=covid_data.groupby('country')['deaths'].diff()\n",
    "covid_data['daily_recovered']=covid_data.groupby('country')['recovered'].diff()\n",
    "va_data['date']=pd.to_datetime(va_data['date'])\n",
    "va_data=vaccinations_data = va_data[['country', 'date', 'total_vaccinations', 'people_vaccinated', 'people_vaccinated_per_hundred',\n",
    "     'people_fully_vaccinated', 'people_fully_vaccinated_per_hundred', 'daily_vaccinations', 'vaccines']]\n",
    "covid_df=covid_data.merge(va_data,how='left',on=['date','country'],)\n",
    "covid_df['death_rate'] = covid_df['deaths'] / covid_df['confirmed'] * 100\n",
    "covid_df['recover_rate'] = covid_df['recovered'] / covid_df['confirmed'] * 100\n",
    "round(covid_df[covid_df['country'] == 'United States']['death_rate'].max(), 2)\n",
    "round(covid_df[covid_df['country'] == 'Russia']['recover_rate'].mean(), 2)\n",
    "\n",
    "\n"
   ]
  }
 ],
 "metadata": {
  "kernelspec": {
   "display_name": "Python 3",
   "language": "python",
   "name": "python3"
  },
  "language_info": {
   "name": "python",
   "version": "3.11.3"
  },
  "orig_nbformat": 4
 },
 "nbformat": 4,
 "nbformat_minor": 2
}
