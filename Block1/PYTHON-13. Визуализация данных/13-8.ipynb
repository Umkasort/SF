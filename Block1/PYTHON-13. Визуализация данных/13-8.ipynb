{
 "cells": [
  {
   "attachments": {},
   "cell_type": "markdown",
   "metadata": {},
   "source": [
    "# <center> Анализ лояльности и оттока клиентов банка"
   ]
  },
  {
   "attachments": {},
   "cell_type": "markdown",
   "metadata": {},
   "source": [
    "Предварительная подготовка данных, загрузка необходимых файлов, библиотек, очистка лишних данных"
   ]
  },
  {
   "cell_type": "code",
   "execution_count": 5,
   "metadata": {},
   "outputs": [],
   "source": [
    "import pandas as pd \n",
    "import plotly.express as px\n",
    "churn_data = pd.read_csv('data/churn.csv')\n",
    "churn_data=churn_data.drop(columns=['RowNumber'],axis=1)"
   ]
  },
  {
   "attachments": {},
   "cell_type": "markdown",
   "metadata": {},
   "source": [
    "### <center> Оглавление\n",
    "##### 1.1 [Соотношение ушедших и лояльных клиентов] \n",
    "##### 1.2 Распределение баланса пользователей, у которых на счету больше 2 500 долларов\n",
    "##### 1.3 распределение баланса клиента в разрезе признака оттока\n",
    "##### 1.4 распределение возраста в разрезе признака оттока\n",
    "##### 1.5 взаимосвязь кредитного рейтинга клиента и его предполагаемой зарплаты\n",
    "##### 1.6 Кто чаще уходит, мужчины или женщины?\n",
    "##### 1.7 Как отток клиентов зависит от числа приобретённых у банка услуг\n",
    "##### 1.8 Как влияет наличие статуса активного клиента на отток клиентов\n",
    "##### 1.9 В какой стране доля ушедших клиентов больше\n",
    "##### 1.10 Создание нового признака кредитного потенциала клиента. Оценка лояльности по этому признаку"
   ]
  },
  {
   "attachments": {},
   "cell_type": "markdown",
   "metadata": {
    "slideshow": {
     "slide_type": "slide"
    }
   },
   "source": [
    "#### 1.1 Соотношение ушедших и лояльных клиентов"
   ]
  }
 ],
 "metadata": {
  "kernelspec": {
   "display_name": "Python 3",
   "language": "python",
   "name": "python3"
  },
  "language_info": {
   "codemirror_mode": {
    "name": "ipython",
    "version": 3
   },
   "file_extension": ".py",
   "mimetype": "text/x-python",
   "name": "python",
   "nbconvert_exporter": "python",
   "pygments_lexer": "ipython3",
   "version": "3.11.3"
  },
  "orig_nbformat": 4
 },
 "nbformat": 4,
 "nbformat_minor": 2
}
