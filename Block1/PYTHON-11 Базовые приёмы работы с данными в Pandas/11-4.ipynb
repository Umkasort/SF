{
 "cells": [
  {
   "cell_type": "code",
   "execution_count": 87,
   "metadata": {},
   "outputs": [
    {
     "data": {
      "text/plain": [
       "Index(['St', 'Rd', 'Ct', 'Dr', 'Av', 'Gr', 'Pde', 'Pl', 'Cr', 'Cl'], dtype='object')"
      ]
     },
     "metadata": {},
     "output_type": "display_data"
    }
   ],
   "source": [
    "import pandas as pd\n",
    "melb_data = pd.read_csv('data/melb_data_ps.csv')\n",
    "\n",
    "melb_df = melb_data.copy()\n",
    "melb_df['Date']=pd.to_datetime(melb_df['Date'],dayfirst=True)\n",
    "# окращаем выборку типов улиц до 11 (10 самых частых и other)\n",
    "# На вход данной функции поступает строка с адресом.\n",
    "def get_street_type(address):\n",
    "    exclude_list = ['N', 'S', 'W', 'E']\n",
    "    address_list = address.split(' ')\n",
    "    street_type = address_list[-1]\n",
    "    if street_type in exclude_list:\n",
    "        street_type = address_list[-2]\n",
    "    return street_type\n",
    "street_types = melb_df['Address'].apply(get_street_type)\n",
    "popular_stypes=street_types.value_counts().nlargest(10).index\n",
    "melb_df['StreetType'] = street_types.apply(lambda x: x if x in popular_stypes else 'other')\n",
    "melb_df.drop('Address',axis=1)\n",
    "display(popular_stypes)\n"
   ]
  },
  {
   "cell_type": "code",
   "execution_count": 88,
   "metadata": {},
   "outputs": [
    {
     "name": "stdout",
     "output_type": "stream",
     "text": [
      "1081198.6406956792\n"
     ]
    }
   ],
   "source": [
    "import pandas as pd\n",
    "melb_data = pd.read_csv('data/melb_data_ps.csv')\n",
    "\n",
    "melb_df = melb_data.copy()\n",
    "melb_df['Date']=pd.to_datetime(melb_df['Date'],dayfirst=True)\n",
    "melb_df['WeekdaySale']=melb_df['Date'].dt.dayofweek\n",
    "weekdays=([5,6])\n",
    "melb_df=melb_df[melb_df['WeekdaySale'].isin(weekdays)]\n",
    "print (melb_df['Price'].mean())"
   ]
  },
  {
   "cell_type": "code",
   "execution_count": 89,
   "metadata": {},
   "outputs": [
    {
     "data": {
      "text/plain": [
       "1.297709923664122"
      ]
     },
     "metadata": {},
     "output_type": "display_data"
    }
   ],
   "source": [
    "import pandas as pd\n",
    "melb_data = pd.read_csv('data/melb_data_ps.csv')\n",
    "\n",
    "melb_df = melb_data.copy()\n",
    "sellers = melb_df['SellerG']\n",
    "popular_seller=sellers.value_counts().nlargest(49).index\n",
    "melb_df['SellerG'] = sellers.apply(lambda x: x if x in popular_seller else 'other')\n",
    "melb_df.drop('Address',axis=1)\n",
    "nelson_min=melb_df[melb_df['SellerG']=='Nelson']['Price'].min()\n",
    "other_min=melb_df[melb_df['SellerG']=='other']['Price'].min()\n",
    "display(nelson_min/other_min)"
   ]
  },
  {
   "cell_type": "code",
   "execution_count": 96,
   "metadata": {},
   "outputs": [
    {
     "name": "stdout",
     "output_type": "stream",
     "text": [
      "72\n"
     ]
    }
   ],
   "source": [
    "import pandas as pd\n",
    "test_series_1 = pd.Series([\n",
    "    'Опыт работы 8 лет 3 месяца',\n",
    "    'Опыт работы 3 года 5 месяцев',\n",
    "    'Опыт работы 1 год 9 месяцев',\n",
    "    'Опыт работы 3 месяца',\n",
    "    'Опыт работы 6 лет'])\n",
    "\n",
    "def get_experience(arg):\n",
    "    res=arg.split()\n",
    "    res=res[2:]\n",
    "    if len(res)==4:\n",
    "        months=int(res[0])*12+int(res[2])\n",
    "    elif len(res)==2:\n",
    "        if 'месяц' in res[1]:\n",
    "            months=int(res[0])\n",
    "        else:\n",
    "            months=int(res[0])*12\n",
    "    return months\n",
    "print (get_experience(test_series_1.iloc[4]))"
   ]
  }
 ],
 "metadata": {
  "kernelspec": {
   "display_name": "Python 3",
   "language": "python",
   "name": "python3"
  },
  "language_info": {
   "codemirror_mode": {
    "name": "ipython",
    "version": 3
   },
   "file_extension": ".py",
   "mimetype": "text/x-python",
   "name": "python",
   "nbconvert_exporter": "python",
   "pygments_lexer": "ipython3",
   "version": "3.11.1"
  },
  "orig_nbformat": 4
 },
 "nbformat": 4,
 "nbformat_minor": 2
}
