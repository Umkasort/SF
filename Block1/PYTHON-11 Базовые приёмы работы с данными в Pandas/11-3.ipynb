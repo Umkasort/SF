{
 "cells": [
  {
   "cell_type": "code",
   "execution_count": 34,
   "metadata": {},
   "outputs": [
    {
     "data": {
      "text/plain": [
       "12822"
      ]
     },
     "execution_count": 34,
     "metadata": {},
     "output_type": "execute_result"
    }
   ],
   "source": [
    "import pandas as pd\n",
    "melb_data = pd.read_csv('data/melb_data_ps.csv')\n",
    "\n",
    "melb_df = melb_data.copy()\n",
    "melb_df['Date']=pd.to_datetime(melb_df['Date'],dayfirst=True)\n",
    "#display (melb_df['Date'])\n",
    "#years_sold = melb_df['Date'].dt.year\n",
    "#print(years_sold)\n",
    "#print('Min year sold:', years_sold.min())\n",
    "#print('Max year sold:', years_sold.max())\n",
    "#print('Mode year sold:', years_sold.mode()[0])\n",
    "melb_df['MonthSale'] = melb_df['Date'].dt.month\n",
    "melb_df['MonthSale'].value_counts(normalize=True)\n",
    "delta_days = melb_df['Date'] - pd.to_datetime('2016-01-01') \n",
    "melb_df['AgeBuilding'] = melb_df['Date'].dt.year - melb_df['YearBuilt']\n",
    "melb_df['WeekdaySale']=melb_df['Date'].dt.dayofweek\n",
    "melb_df['WeekdaySale'].value_counts()[5]+melb_df['WeekdaySale'].value_counts()[6] "
   ]
  },
  {
   "cell_type": "code",
   "execution_count": 73,
   "metadata": {},
   "outputs": [
    {
     "data": {
      "text/plain": [
       "68.44876325088339"
      ]
     },
     "metadata": {},
     "output_type": "display_data"
    }
   ],
   "source": [
    "\n",
    "df=pd.read_csv('https://raw.githubusercontent.com/justmarkham/pandas-videos/master/data/ufo.csv')\n",
    "df['Date']=pd.to_datetime(df['Time'],dayfirst=False)\n",
    "df=df[df['State']=='NV']\n",
    "df['dif']=df['Date'].diff().dt.days\n",
    "display(df['dif'].mean())\n"
   ]
  }
 ],
 "metadata": {
  "kernelspec": {
   "display_name": "Python 3",
   "language": "python",
   "name": "python3"
  },
  "language_info": {
   "codemirror_mode": {
    "name": "ipython",
    "version": 3
   },
   "file_extension": ".py",
   "mimetype": "text/x-python",
   "name": "python",
   "nbconvert_exporter": "python",
   "pygments_lexer": "ipython3",
   "version": "3.11.1"
  },
  "orig_nbformat": 4
 },
 "nbformat": 4,
 "nbformat_minor": 2
}
