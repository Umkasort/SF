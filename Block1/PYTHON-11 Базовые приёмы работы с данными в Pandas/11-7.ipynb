{
 "cells": [
  {
   "cell_type": "code",
   "execution_count": 11,
   "metadata": {},
   "outputs": [
    {
     "data": {
      "text/plain": [
       "day        143012\n",
       "morning     95530\n",
       "evening     46373\n",
       "night       15085\n",
       "Name: time of day, dtype: int64"
      ]
     },
     "metadata": {},
     "output_type": "display_data"
    }
   ],
   "source": [
    "import pandas as pd\n",
    "def get_time(time1):\n",
    "    res=None\n",
    "    time=int(time1.hour)\n",
    "    night=range(0,7)\n",
    "    morning=range(7,13)\n",
    "    day=range(13,19)\n",
    "    evening=range(19,24)\n",
    "    if time in night:\n",
    "        res='night'\n",
    "    elif time in morning:\n",
    "        res='morning'\n",
    "    elif time in day:\n",
    "        res='day'\n",
    "    elif time in evening:\n",
    "        res='evening'\n",
    "    return res\n",
    "\n",
    "bike_data = pd.read_csv('data/citibike-tripdata.csv')\n",
    "bike_df=bike_data.copy()\n",
    "bike_df=bike_df.drop(['start station id','end station id'],axis=1)\n",
    "bike_df['age']=2018-bike_df['birth year']\n",
    "bike_df.drop(['birth year'],axis=1)\n",
    "bike_df['starttime']=pd.to_datetime(bike_df['starttime'])\n",
    "bike_df['stoptime']=pd.to_datetime(bike_df['stoptime'])\n",
    "bike_df['trip duration']=(bike_df['stoptime'].dt.minute-bike_df['starttime'].dt.minute)\n",
    "bike_df['week day start']=bike_df['starttime'].dt.day_of_week\n",
    "weekends=([5,6])\n",
    "bike_df['time of day']=bike_df['starttime'].apply(get_time)\n",
    "c=bike_df[bike_df['week day start'].isin (weekends)]['week day start'].count()\n",
    "display(bike_df['time of day'].value_counts())\n",
    "\n"
   ]
  }
 ],
 "metadata": {
  "kernelspec": {
   "display_name": "Python 3",
   "language": "python",
   "name": "python3"
  },
  "language_info": {
   "codemirror_mode": {
    "name": "ipython",
    "version": 3
   },
   "file_extension": ".py",
   "mimetype": "text/x-python",
   "name": "python",
   "nbconvert_exporter": "python",
   "pygments_lexer": "ipython3",
   "version": "3.11.1"
  },
  "orig_nbformat": 4
 },
 "nbformat": 4,
 "nbformat_minor": 2
}
