{
 "cells": [
  {
   "cell_type": "code",
   "execution_count": 4,
   "metadata": {},
   "outputs": [
    {
     "data": {
      "text/plain": [
       "SellerG\n",
       "LITTLE           2.199300e+07\n",
       "Burnham          2.614650e+07\n",
       "Moonee           2.878050e+07\n",
       "Thomson          2.981600e+07\n",
       "Bells            3.038450e+07\n",
       "Alexkarbon       3.465559e+07\n",
       "Buckingham       3.881160e+07\n",
       "Eview            4.065124e+07\n",
       "McDonald         4.205350e+07\n",
       "Purplebricks     4.360900e+07\n",
       "Philip           4.703580e+07\n",
       "HAR              4.818300e+07\n",
       "O'Brien          4.999551e+07\n",
       "C21              5.350800e+07\n",
       "Douglas          6.429010e+07\n",
       "Rendina          6.600628e+07\n",
       "Cayzer           6.867000e+07\n",
       "RW               7.013100e+07\n",
       "Nick             7.531900e+07\n",
       "Collins          7.674250e+07\n",
       "Chisholm         7.834425e+07\n",
       "Love             7.894540e+07\n",
       "Raine            8.946020e+07\n",
       "YPA              9.273035e+07\n",
       "Stockdale        1.064608e+08\n",
       "Williams         1.156803e+08\n",
       "Village          1.235205e+08\n",
       "Harcourts        1.328355e+08\n",
       "Gary             1.671684e+08\n",
       "Sweeney          1.805233e+08\n",
       "Hodges           2.062959e+08\n",
       "Miles            2.130829e+08\n",
       "Jas              2.143306e+08\n",
       "Kay              2.316008e+08\n",
       "McGrath          2.383812e+08\n",
       "Noel             2.456737e+08\n",
       "RT               2.767480e+08\n",
       "Brad             2.858362e+08\n",
       "Greg             2.940030e+08\n",
       "Woodards         3.138577e+08\n",
       "Fletchers        3.951197e+08\n",
       "Biggin           4.002790e+08\n",
       "Ray              6.147686e+08\n",
       "Buxton           7.788899e+08\n",
       "Barry            8.859425e+08\n",
       "hockingstuart    1.114167e+09\n",
       "other            1.142672e+09\n",
       "Marshall         1.244748e+09\n",
       "Nelson           1.588438e+09\n",
       "Jellis           1.800503e+09\n",
       "Name: Price, dtype: float64"
      ]
     },
     "execution_count": 4,
     "metadata": {},
     "output_type": "execute_result"
    }
   ],
   "source": [
    "import pandas as pd\n",
    "melb_data=pd.read_csv('data/melb_data_fe.csv')\n",
    "melb_df=melb_data.copy()\n",
    "melb_df['Date']=pd.to_datetime(melb_df['Date'])\n",
    "melb_ds=melb_df[(melb_df['Date']>=pd.to_datetime('2017.05.01')) & (melb_df['Date']<=pd.to_datetime('2017.09.01'))]\n",
    "melb_df.groupby('SellerG')['Price'].agg('sum').sort_values()"
   ]
  }
 ],
 "metadata": {
  "kernelspec": {
   "display_name": "Python 3",
   "language": "python",
   "name": "python3"
  },
  "language_info": {
   "codemirror_mode": {
    "name": "ipython",
    "version": 3
   },
   "file_extension": ".py",
   "mimetype": "text/x-python",
   "name": "python",
   "nbconvert_exporter": "python",
   "pygments_lexer": "ipython3",
   "version": "3.11.3"
  },
  "orig_nbformat": 4
 },
 "nbformat": 4,
 "nbformat_minor": 2
}
