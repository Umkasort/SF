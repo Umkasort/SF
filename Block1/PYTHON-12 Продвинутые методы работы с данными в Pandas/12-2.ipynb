{
 "cells": [
  {
   "cell_type": "code",
   "execution_count": 15,
   "metadata": {},
   "outputs": [
    {
     "data": {
      "text/html": [
       "<div>\n",
       "<style scoped>\n",
       "    .dataframe tbody tr th:only-of-type {\n",
       "        vertical-align: middle;\n",
       "    }\n",
       "\n",
       "    .dataframe tbody tr th {\n",
       "        vertical-align: top;\n",
       "    }\n",
       "\n",
       "    .dataframe thead th {\n",
       "        text-align: right;\n",
       "    }\n",
       "</style>\n",
       "<table border=\"1\" class=\"dataframe\">\n",
       "  <thead>\n",
       "    <tr style=\"text-align: right;\">\n",
       "      <th></th>\n",
       "      <th>Price</th>\n",
       "    </tr>\n",
       "  </thead>\n",
       "  <tbody>\n",
       "    <tr>\n",
       "      <th>17</th>\n",
       "      <td>1320000.0</td>\n",
       "    </tr>\n",
       "    <tr>\n",
       "      <th>18</th>\n",
       "      <td>1300000.0</td>\n",
       "    </tr>\n",
       "    <tr>\n",
       "      <th>19</th>\n",
       "      <td>2700000.0</td>\n",
       "    </tr>\n",
       "  </tbody>\n",
       "</table>\n",
       "</div>"
      ],
      "text/plain": [
       "        Price\n",
       "17  1320000.0\n",
       "18  1300000.0\n",
       "19  2700000.0"
      ]
     },
     "execution_count": 15,
     "metadata": {},
     "output_type": "execute_result"
    }
   ],
   "source": [
    "import pandas as pd\n",
    "melb_data=pd.read_csv('data/melb_data_fe.csv')\n",
    "melb_data['Date']=pd.to_datetime(melb_data['Date'])\n",
    "melb_data['quarter']=melb_data['Date'].dt.quarter\n",
    "cols_to_exclude=['Date','Rooms','Bedroom','Bathroom','Car']\n",
    "max_unique_count=150\n",
    "for col in melb_data.columns:\n",
    "    if melb_data[col].nunique()<max_unique_count and col not in cols_to_exclude:\n",
    "        melb_data[col]=melb_data[col].astype('category')\n",
    "melb_df=melb_data.copy()\n",
    "mask1=melb_df['Rooms'] > 2\n",
    "mask2=melb_df['Type'] == 'townhouse'\n",
    "melb_df[mask1 & mask2].sort_values(by = ['Rooms','MeanRoomsSquare'], \n",
    "        ascending = [True,False], ignore_index = True).loc[17:19,['Price']]\n"
   ]
  }
 ],
 "metadata": {
  "kernelspec": {
   "display_name": "Python 3",
   "language": "python",
   "name": "python3"
  },
  "language_info": {
   "codemirror_mode": {
    "name": "ipython",
    "version": 3
   },
   "file_extension": ".py",
   "mimetype": "text/x-python",
   "name": "python",
   "nbconvert_exporter": "python",
   "pygments_lexer": "ipython3",
   "version": "3.11.1"
  },
  "orig_nbformat": 4
 },
 "nbformat": 4,
 "nbformat_minor": 2
}
