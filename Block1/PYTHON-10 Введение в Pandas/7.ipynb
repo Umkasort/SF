{
 "cells": [
  {
   "cell_type": "code",
   "execution_count": 40,
   "metadata": {},
   "outputs": [
    {
     "name": "stdout",
     "output_type": "stream",
     "text": [
      "Total income of real estate agencies: 1752934775.88\n",
      "0.21205713983546193\n",
      "0    3\n",
      "Name: Rooms, dtype: int64\n",
      "0    3\n",
      "Name: Rooms, dtype: int64\n"
     ]
    }
   ],
   "source": [
    "#МЕТОД\tСТАТИСТИЧЕСКИЙ ПАРАМЕТР\n",
    "#.count()\tКоличество непустых значений\n",
    "#.mean()\tСреднее значение\n",
    "#.min()\tМинимальное значение\n",
    "#.max()\tМаксимальное значение\n",
    "#.var()\tДисперсия\n",
    "#.std()\tСтандартное отклонение\n",
    "#.sum()\tСумма\n",
    "#.quantile(x)\tКвантиль уровня x\n",
    "#.nunique()\tЧисло уникальных значений\n",
    "import pandas as pd\n",
    "melb_data = pd.read_csv('data/melb_data.csv', sep=',')\n",
    "rate = 0.12\n",
    "income = melb_data['Price'].sum() * rate\n",
    "print('Total income of real estate agencies:', round(income, 2))\n",
    "landsize_median = melb_data['Landsize'].median() \n",
    "landsize_mean =  melb_data['Landsize'].mean()\n",
    "print(abs(landsize_median - landsize_mean)/landsize_mean)\n",
    "print(melb_data['Rooms'].mode())\n",
    "abs(melb_data['BuildingArea'].mean()-melb_data['BuildingArea'].median())/melb_data['BuildingArea'].mean()\n",
    "val=pd.DataFrame([1, 2, 4, 2, 3, 2, 1, 5, 6])\n",
    "print(melb_data['Rooms'].mode())"
   ]
  }
 ],
 "metadata": {
  "kernelspec": {
   "display_name": "Python 3",
   "language": "python",
   "name": "python3"
  },
  "language_info": {
   "codemirror_mode": {
    "name": "ipython",
    "version": 3
   },
   "file_extension": ".py",
   "mimetype": "text/x-python",
   "name": "python",
   "nbconvert_exporter": "python",
   "pygments_lexer": "ipython3",
   "version": "3.11.1"
  },
  "orig_nbformat": 4
 },
 "nbformat": 4,
 "nbformat_minor": 2
}
