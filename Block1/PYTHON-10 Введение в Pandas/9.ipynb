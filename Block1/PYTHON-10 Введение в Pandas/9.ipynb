{
 "cells": [
  {
   "cell_type": "code",
   "execution_count": 40,
   "metadata": {},
   "outputs": [
    {
     "name": "stdout",
     "output_type": "stream",
     "text": [
      "Total income of real estate agencies: 1752934775.88\n",
      "0.21205713983546193\n",
      "0    3\n",
      "Name: Rooms, dtype: int64\n",
      "0    3\n",
      "Name: Rooms, dtype: int64\n"
     ]
    }
   ],
   "source": [
    "#МЕТОД\tСТАТИСТИЧЕСКИЙ ПАРАМЕТР\n",
    "#.count()\tКоличество непустых значений\n",
    "#.mean()\tСреднее значение\n",
    "#.min()\tМинимальное значение\n",
    "#.max()\tМаксимальное значение\n",
    "#.var()\tДисперсия\n",
    "#.std()\tСтандартное отклонение\n",
    "#.sum()\tСумма\n",
    "#.quantile(x)\tКвантиль уровня x\n",
    "#.nunique()\tЧисло уникальных значений\n",
    "\n"
   ]
  },
  {
   "cell_type": "code",
   "execution_count": 61,
   "metadata": {},
   "outputs": [
    {
     "name": "stdout",
     "output_type": "stream",
     "text": [
      "-5.827586206896555\n"
     ]
    }
   ],
   "source": [
    "import pandas as pd\n",
    "student_data= pd.read_csv('data/students_performance.csv', sep=',')\n",
    "#student_data.loc[155]['writing score']\n",
    "#student_data.info()\n",
    "\n",
    "#student_data[student_data['test preparation course']=='completed']['writing score'].mean()\n",
    "\n",
    "#student_data[student_data['math score']==0].value_counts().count()\n",
    "\n",
    "#student_data[\"parental level of education\"].value_counts(normalize=True)\n",
    "\n",
    "race_a_median=student_data[student_data['race/ethnicity']=='group A']['writing score'].median()\n",
    "race_c_mean=student_data[student_data['race/ethnicity']=='group C']['writing score'].mean()\n",
    "print(race_a_median- race_c_mean)\n"
   ]
  }
 ],
 "metadata": {
  "kernelspec": {
   "display_name": "Python 3",
   "language": "python",
   "name": "python3"
  },
  "language_info": {
   "codemirror_mode": {
    "name": "ipython",
    "version": 3
   },
   "file_extension": ".py",
   "mimetype": "text/x-python",
   "name": "python",
   "nbconvert_exporter": "python",
   "pygments_lexer": "ipython3",
   "version": "3.11.1"
  },
  "orig_nbformat": 4
 },
 "nbformat": 4,
 "nbformat_minor": 2
}
