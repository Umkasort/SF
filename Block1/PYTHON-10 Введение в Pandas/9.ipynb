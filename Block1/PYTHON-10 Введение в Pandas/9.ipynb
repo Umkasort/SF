{
 "cells": [
  {
   "cell_type": "code",
   "execution_count": 40,
   "metadata": {},
   "outputs": [
    {
     "name": "stdout",
     "output_type": "stream",
     "text": [
      "Total income of real estate agencies: 1752934775.88\n",
      "0.21205713983546193\n",
      "0    3\n",
      "Name: Rooms, dtype: int64\n",
      "0    3\n",
      "Name: Rooms, dtype: int64\n"
     ]
    }
   ],
   "source": [
    "#МЕТОД\tСТАТИСТИЧЕСКИЙ ПАРАМЕТР\n",
    "#.count()\tКоличество непустых значений\n",
    "#.mean()\tСреднее значение\n",
    "#.min()\tМинимальное значение\n",
    "#.max()\tМаксимальное значение\n",
    "#.var()\tДисперсия\n",
    "#.std()\tСтандартное отклонение\n",
    "#.sum()\tСумма\n",
    "#.quantile(x)\tКвантиль уровня x\n",
    "#.nunique()\tЧисло уникальных значений\n",
    "\n"
   ]
  },
  {
   "cell_type": "code",
   "execution_count": 35,
   "metadata": {},
   "outputs": [
    {
     "data": {
      "text/plain": [
       "0    Northern Metropolitan\n",
       "Name: Regionname, dtype: object"
      ]
     },
     "execution_count": 35,
     "metadata": {},
     "output_type": "execute_result"
    }
   ],
   "source": [
    "import pandas as pd\n",
    "melb_data = pd.read_csv('data/melb_data.csv', sep=',')\n",
    "#melb_data[melb_data['Price']>2000000] #Find by mask\n",
    "\n",
    "#melb_data[((melb_data['Rooms']==3)|(melb_data['BuildingArea']>100))&(melb_data['Price']<300000)].shape[0]\n",
    "\n",
    "#melb_data[melb_data['Type']=='t']['Rooms'].max()\n",
    "\n",
    "#mean_price=melb_data['Price'].mean()\n",
    "#melb_data[melb_data['Price']>mean_price]['BuildingArea'].median()\n",
    "\n",
    "#melb_data.value_counts(['Bathroom'])\n",
    "\n",
    "#melb_data[(melb_data['SellerG']=='Nelson')&(melb_data['Price']>3000000)].value_counts().sum()\n",
    "\n",
    "#melb_data[melb_data['BuildingArea']==0]['Price'].min()\n",
    "\n",
    "#melb_data[(melb_data['Price']<1000000)&((melb_data['Rooms']>5)\n",
    "#        |(melb_data['YearBuilt']>2015))]['Price'].mean()\n",
    "\n",
    "melb_data[(melb_data['Type']=='h')&(melb_data['Price']<3000000)]['Regionname'].mode()\n",
    "\n",
    "\n",
    "\n",
    "\n",
    "\n"
   ]
  }
 ],
 "metadata": {
  "kernelspec": {
   "display_name": "Python 3",
   "language": "python",
   "name": "python3"
  },
  "language_info": {
   "codemirror_mode": {
    "name": "ipython",
    "version": 3
   },
   "file_extension": ".py",
   "mimetype": "text/x-python",
   "name": "python",
   "nbconvert_exporter": "python",
   "pygments_lexer": "ipython3",
   "version": "3.11.1"
  },
  "orig_nbformat": 4
 },
 "nbformat": 4,
 "nbformat_minor": 2
}
