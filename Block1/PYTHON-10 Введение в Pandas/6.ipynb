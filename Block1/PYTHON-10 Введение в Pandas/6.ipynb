{
 "cells": [
  {
   "cell_type": "code",
   "execution_count": 23,
   "metadata": {},
   "outputs": [
    {
     "data": {
      "text/plain": [
       "Type\n",
       "h    0.695803\n",
       "u    0.222165\n",
       "t    0.082032\n",
       "dtype: float64"
      ]
     },
     "execution_count": 23,
     "metadata": {},
     "output_type": "execute_result"
    }
   ],
   "source": [
    "import pandas as pd\n",
    "melb_data = pd.read_csv('data/melb_data.csv', sep=',') #read csv\n",
    "# .shape - размерность DataFrame\n",
    "#melb_data.describe().loc[:, ['Distance', 'BuildingArea' , 'Price']] # satistic data\n",
    "#melb_data.info() # types\n",
    "#melb_data['Regionname'].value_counts(normalize=True) # Уникальные данные и их счетчики, normalize - in %\n",
    "#melb_data.describe(include=['object'])\n",
    "melb_data.value_counts('Type',normalize=True)"
   ]
  },
  {
   "cell_type": "code",
   "execution_count": null,
   "metadata": {},
   "outputs": [
    {
     "data": {
      "text/plain": [
       "Type\n",
       "h    0.695803\n",
       "u    0.222165\n",
       "t    0.082032\n",
       "dtype: float64"
      ]
     },
     "metadata": {},
     "output_type": "display_data"
    }
   ],
   "source": [
    "#МЕТОД\tСТАТИСТИЧЕСКИЙ ПАРАМЕТР\n",
    "#.count()\tКоличество непустых значений\n",
    "#.mean()\tСреднее значение\n",
    "#.min()\tМинимальное значение\n",
    "#.max()\tМаксимальное значение\n",
    "#.var()\tДисперсия\n",
    "#.std()\tСтандартное отклонение\n",
    "#.sum()\tСумма\n",
    "#.quantile(x)\tКвантиль уровня x\n",
    "#.nunique()\tЧисло уникальных значений"
   ]
  }
 ],
 "metadata": {
  "kernelspec": {
   "display_name": "Python 3",
   "language": "python",
   "name": "python3"
  },
  "language_info": {
   "codemirror_mode": {
    "name": "ipython",
    "version": 3
   },
   "file_extension": ".py",
   "mimetype": "text/x-python",
   "name": "python",
   "nbconvert_exporter": "python",
   "pygments_lexer": "ipython3",
   "version": "3.11.1"
  },
  "orig_nbformat": 4
 },
 "nbformat": 4,
 "nbformat_minor": 2
}
