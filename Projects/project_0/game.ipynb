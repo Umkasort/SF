{
 "cells": [
  {
   "attachments": {},
   "cell_type": "markdown",
   "metadata": {},
   "source": [
    "# Игра угадай число\n",
    "## Угадываем число  \n",
    "### Эх"
   ]
  },
  {
   "cell_type": "code",
   "execution_count": 8,
   "metadata": {},
   "outputs": [
    {
     "name": "stdout",
     "output_type": "stream",
     "text": [
      "{1: 19, 10: 0, 100: 0, 1000: 8, 10000: 0, 100000: 0, 1000000: 0}\n"
     ]
    }
   ],
   "source": [
    "input_string = '2 миллиона семьсот восемьдесят тысяч девятьсот девятнадцать'#input('Введите число словами: ')\n",
    "# ваш код здесь\n",
    "def transform_string_to_integer(text):\n",
    "    number_word = dict()\n",
    "    number_word['razr'] = {1000:\"тыc\", 1000000:\"милл\"}\n",
    "    number_word[100] = {\"сто\": 100, \"двес\": 200, \"трис\": 300, \"четырес\": 400, \"пятьс\": 500, \"шестьс\": 600, \"семьс\": 700, \"восемьс\": 800, \"девятьс\": 900}\n",
    "    number_word[10] = {\"двад\": 20, \"трид\": 30, \"сор\": 40, \"пятьд\": 50, \"шестьд\": 60, \"семьд\": 70, \"восемьд\": 80, \"девяно\": 90}\n",
    "    number_word[1] = {\"одинн\": 11, \"двен\": 12, \"трин\": 13, \"четырн\": 14, \"пятн\": 15, \"шестн\": 16, \"семн\": 17, \"восемн\": 18, \"девятн\": 19,\"дес\": 10, \"н\": 0, \"о\": 1, \"дв\": 2, \"т\": 3, \"ч\": 4, \"п\": 5, \"ш\": 6, \"с\": 7, \"в\": 8, \"д\": 9}\n",
    "    number_word['words'] = {1:0, 10:0, 100:0, 1000:0, 10000:0, 100000:0, 1000000:0}\n",
    "    text_lst = text.split()\n",
    "    count = 1\n",
    "    count_razr = 1\n",
    "    for word in text_lst[::-1]:\n",
    "        if word.startswith(number_word['razr'][1000]) or word.startswith(number_word['razr'][1000]):continue\n",
    "        flag_find = False\n",
    "        for str_int in number_word[count_razr]:\n",
    "            if word.startswith(str_int):\n",
    "                number = number_word[count_razr][str_int]\n",
    "                number_word['words'][count] = number\n",
    "                flag_find = True\n",
    "                count *= 10\n",
    "                count_razr *= 10\n",
    "                break\n",
    "        if not flag_find:\n",
    "            count *= 10\n",
    "            count_razr *= 10\n",
    "        if count > 1000000: break\n",
    "        if count_razr == 1000: count_razr = 1\n",
    "    return number_word['words']\n",
    "print(transform_string_to_integer(input_string))"
   ]
  },
  {
   "attachments": {},
   "cell_type": "markdown",
   "metadata": {},
   "source": [
    "#### END"
   ]
  }
 ],
 "metadata": {
  "kernelspec": {
   "display_name": "Python 3",
   "language": "python",
   "name": "python3"
  },
  "language_info": {
   "codemirror_mode": {
    "name": "ipython",
    "version": 3
   },
   "file_extension": ".py",
   "mimetype": "text/x-python",
   "name": "python",
   "nbconvert_exporter": "python",
   "pygments_lexer": "ipython3",
   "version": "3.11.9"
  },
  "orig_nbformat": 4,
  "vscode": {
   "interpreter": {
    "hash": "cb7ad110f180b94c43d05a8d958d6170e7bd0d88d6b4d0b75a3d8530f33945cd"
   }
  }
 },
 "nbformat": 4,
 "nbformat_minor": 2
}
