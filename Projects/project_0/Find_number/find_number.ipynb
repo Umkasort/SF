{
 "cells": [
  {
   "attachments": {},
   "cell_type": "markdown",
   "metadata": {},
   "source": [
    "# Оптимизированная программа\n",
    "## поиска случайно заданного числа"
   ]
  },
  {
   "cell_type": "code",
   "execution_count": 1,
   "metadata": {},
   "outputs": [
    {
     "ename": "RecursionError",
     "evalue": "maximum recursion depth exceeded in comparison",
     "output_type": "error",
     "traceback": [
      "\u001b[1;31m---------------------------------------------------------------------------\u001b[0m",
      "\u001b[1;31mRecursionError\u001b[0m                            Traceback (most recent call last)",
      "Cell \u001b[1;32mIn[1], line 3\u001b[0m\n\u001b[0;32m      1\u001b[0m \u001b[38;5;28;01mfrom\u001b[39;00m \u001b[38;5;21;01mfind_number\u001b[39;00m \u001b[38;5;28;01mimport\u001b[39;00m score_game\n\u001b[0;32m      2\u001b[0m \u001b[38;5;28;01mfrom\u001b[39;00m \u001b[38;5;21;01mfind_number\u001b[39;00m \u001b[38;5;28;01mimport\u001b[39;00m random_predict\n\u001b[1;32m----> 3\u001b[0m \u001b[43mscore_game\u001b[49m\u001b[43m(\u001b[49m\u001b[43mrandom_predict\u001b[49m\u001b[43m)\u001b[49m\n",
      "File \u001b[1;32mc:\\Users\\Mironkin\\Documents\\skillfactory\\git\\SkillFactory\\Projects\\project_0\\Find_number\\find_number.py:16\u001b[0m, in \u001b[0;36mscore_game\u001b[1;34m(random_predict)\u001b[0m\n\u001b[0;32m     14\u001b[0m random_array \u001b[38;5;241m=\u001b[39m np\u001b[38;5;241m.\u001b[39mrandom\u001b[38;5;241m.\u001b[39mrandint(\u001b[38;5;241m1\u001b[39m, \u001b[38;5;241m101\u001b[39m, size\u001b[38;5;241m=\u001b[39m(\u001b[38;5;241m1000\u001b[39m)) \u001b[38;5;66;03m# загадали список чисел\u001b[39;00m\n\u001b[0;32m     15\u001b[0m \u001b[38;5;28;01mfor\u001b[39;00m number \u001b[38;5;129;01min\u001b[39;00m random_array:\n\u001b[1;32m---> 16\u001b[0m     count_ls\u001b[38;5;241m.\u001b[39mappend(\u001b[43mrandom_predict\u001b[49m\u001b[43m(\u001b[49m\u001b[43mnumber\u001b[49m\u001b[43m)\u001b[49m)\n\u001b[0;32m     17\u001b[0m score \u001b[38;5;241m=\u001b[39m \u001b[38;5;28mint\u001b[39m(np\u001b[38;5;241m.\u001b[39mmean(count_ls)) \u001b[38;5;66;03m# находим среднее количество попыток\u001b[39;00m\n\u001b[0;32m     18\u001b[0m \u001b[38;5;28mprint\u001b[39m(\u001b[38;5;124mf\u001b[39m\u001b[38;5;124m'\u001b[39m\u001b[38;5;124mВаш алгоритм угадывает число в среднем за: \u001b[39m\u001b[38;5;132;01m{\u001b[39;00mscore\u001b[38;5;132;01m}\u001b[39;00m\u001b[38;5;124m попыток\u001b[39m\u001b[38;5;124m'\u001b[39m)\n",
      "File \u001b[1;32mc:\\Users\\Mironkin\\Documents\\skillfactory\\git\\SkillFactory\\Projects\\project_0\\Find_number\\find_number.py:62\u001b[0m, in \u001b[0;36mrandom_predict\u001b[1;34m(number)\u001b[0m\n\u001b[0;32m     51\u001b[0m \u001b[38;5;250m\u001b[39m\u001b[38;5;124;03m\"\"\" Функция поиска случайного числа. Обращается к рекурсивной функции\u001b[39;00m\n\u001b[0;32m     52\u001b[0m \u001b[38;5;124;03m    В результате выдает количество попыток поиска числа\u001b[39;00m\n\u001b[0;32m     53\u001b[0m \n\u001b[1;32m   (...)\u001b[0m\n\u001b[0;32m     58\u001b[0m \u001b[38;5;124;03m    int: _description_\u001b[39;00m\n\u001b[0;32m     59\u001b[0m \u001b[38;5;124;03m\"\"\"\u001b[39;00m\n\u001b[0;32m     61\u001b[0m count \u001b[38;5;241m=\u001b[39m \u001b[38;5;241m0\u001b[39m\n\u001b[1;32m---> 62\u001b[0m count \u001b[38;5;241m=\u001b[39m \u001b[43mnumber_find\u001b[49m\u001b[43m(\u001b[49m\u001b[38;5;241;43m1\u001b[39;49m\u001b[43m,\u001b[49m\u001b[43m \u001b[49m\u001b[38;5;241;43m101\u001b[39;49m\u001b[43m,\u001b[49m\u001b[43m \u001b[49m\u001b[43mnumber\u001b[49m\u001b[43m,\u001b[49m\u001b[43m \u001b[49m\u001b[43mcount\u001b[49m\u001b[43m)\u001b[49m\n\u001b[0;32m     63\u001b[0m \u001b[38;5;28;01mreturn\u001b[39;00m(count)\n",
      "File \u001b[1;32mc:\\Users\\Mironkin\\Documents\\skillfactory\\git\\SkillFactory\\Projects\\project_0\\Find_number\\find_number.py:43\u001b[0m, in \u001b[0;36mnumber_find\u001b[1;34m(index_start, index_end, number, count)\u001b[0m\n\u001b[0;32m     40\u001b[0m     ugadayka \u001b[38;5;241m+\u001b[39m\u001b[38;5;241m=\u001b[39m\u001b[38;5;241m1\u001b[39m\n\u001b[0;32m     42\u001b[0m \u001b[38;5;28;01mif\u001b[39;00m ugadayka\u001b[38;5;241m>\u001b[39mnumber:\n\u001b[1;32m---> 43\u001b[0m     count \u001b[38;5;241m=\u001b[39m \u001b[43mnumber_find\u001b[49m\u001b[43m \u001b[49m\u001b[43m(\u001b[49m\u001b[43mindex_start\u001b[49m\u001b[43m,\u001b[49m\u001b[43m \u001b[49m\u001b[43mugadayka\u001b[49m\u001b[43m,\u001b[49m\u001b[43m \u001b[49m\u001b[43mnumber\u001b[49m\u001b[43m,\u001b[49m\u001b[43m \u001b[49m\u001b[43mcount\u001b[49m\u001b[43m)\u001b[49m\n\u001b[0;32m     45\u001b[0m \u001b[38;5;28;01melif\u001b[39;00m ugadayka\u001b[38;5;241m<\u001b[39mnumber:\n\u001b[0;32m     46\u001b[0m     count \u001b[38;5;241m=\u001b[39m number_find (ugadayka, index_end, number, count)\n",
      "File \u001b[1;32mc:\\Users\\Mironkin\\Documents\\skillfactory\\git\\SkillFactory\\Projects\\project_0\\Find_number\\find_number.py:43\u001b[0m, in \u001b[0;36mnumber_find\u001b[1;34m(index_start, index_end, number, count)\u001b[0m\n\u001b[0;32m     40\u001b[0m     ugadayka \u001b[38;5;241m+\u001b[39m\u001b[38;5;241m=\u001b[39m\u001b[38;5;241m1\u001b[39m\n\u001b[0;32m     42\u001b[0m \u001b[38;5;28;01mif\u001b[39;00m ugadayka\u001b[38;5;241m>\u001b[39mnumber:\n\u001b[1;32m---> 43\u001b[0m     count \u001b[38;5;241m=\u001b[39m \u001b[43mnumber_find\u001b[49m\u001b[43m \u001b[49m\u001b[43m(\u001b[49m\u001b[43mindex_start\u001b[49m\u001b[43m,\u001b[49m\u001b[43m \u001b[49m\u001b[43mugadayka\u001b[49m\u001b[43m,\u001b[49m\u001b[43m \u001b[49m\u001b[43mnumber\u001b[49m\u001b[43m,\u001b[49m\u001b[43m \u001b[49m\u001b[43mcount\u001b[49m\u001b[43m)\u001b[49m\n\u001b[0;32m     45\u001b[0m \u001b[38;5;28;01melif\u001b[39;00m ugadayka\u001b[38;5;241m<\u001b[39mnumber:\n\u001b[0;32m     46\u001b[0m     count \u001b[38;5;241m=\u001b[39m number_find (ugadayka, index_end, number, count)\n",
      "    \u001b[1;31m[... skipping similar frames: number_find at line 43 (2968 times)]\u001b[0m\n",
      "File \u001b[1;32mc:\\Users\\Mironkin\\Documents\\skillfactory\\git\\SkillFactory\\Projects\\project_0\\Find_number\\find_number.py:43\u001b[0m, in \u001b[0;36mnumber_find\u001b[1;34m(index_start, index_end, number, count)\u001b[0m\n\u001b[0;32m     40\u001b[0m     ugadayka \u001b[38;5;241m+\u001b[39m\u001b[38;5;241m=\u001b[39m\u001b[38;5;241m1\u001b[39m\n\u001b[0;32m     42\u001b[0m \u001b[38;5;28;01mif\u001b[39;00m ugadayka\u001b[38;5;241m>\u001b[39mnumber:\n\u001b[1;32m---> 43\u001b[0m     count \u001b[38;5;241m=\u001b[39m \u001b[43mnumber_find\u001b[49m\u001b[43m \u001b[49m\u001b[43m(\u001b[49m\u001b[43mindex_start\u001b[49m\u001b[43m,\u001b[49m\u001b[43m \u001b[49m\u001b[43mugadayka\u001b[49m\u001b[43m,\u001b[49m\u001b[43m \u001b[49m\u001b[43mnumber\u001b[49m\u001b[43m,\u001b[49m\u001b[43m \u001b[49m\u001b[43mcount\u001b[49m\u001b[43m)\u001b[49m\n\u001b[0;32m     45\u001b[0m \u001b[38;5;28;01melif\u001b[39;00m ugadayka\u001b[38;5;241m<\u001b[39mnumber:\n\u001b[0;32m     46\u001b[0m     count \u001b[38;5;241m=\u001b[39m number_find (ugadayka, index_end, number, count)\n",
      "File \u001b[1;32mc:\\Users\\Mironkin\\Documents\\skillfactory\\git\\SkillFactory\\Projects\\project_0\\Find_number\\find_number.py:42\u001b[0m, in \u001b[0;36mnumber_find\u001b[1;34m(index_start, index_end, number, count)\u001b[0m\n\u001b[0;32m     39\u001b[0m \u001b[38;5;28;01mif\u001b[39;00m ugadayka\u001b[38;5;241m==\u001b[39mindex_start:\n\u001b[0;32m     40\u001b[0m     ugadayka \u001b[38;5;241m+\u001b[39m\u001b[38;5;241m=\u001b[39m\u001b[38;5;241m1\u001b[39m\n\u001b[1;32m---> 42\u001b[0m \u001b[38;5;28;01mif\u001b[39;00m \u001b[43mugadayka\u001b[49m\u001b[38;5;241;43m>\u001b[39;49m\u001b[43mnumber\u001b[49m:\n\u001b[0;32m     43\u001b[0m     count \u001b[38;5;241m=\u001b[39m number_find (index_start, ugadayka, number, count)\n\u001b[0;32m     45\u001b[0m \u001b[38;5;28;01melif\u001b[39;00m ugadayka\u001b[38;5;241m<\u001b[39mnumber:\n",
      "\u001b[1;31mRecursionError\u001b[0m: maximum recursion depth exceeded in comparison"
     ]
    }
   ],
   "source": [
    "from find_number import score_game\n",
    "from find_number import random_predict\n",
    "score_game(random_predict)"
   ]
  }
 ],
 "metadata": {
  "kernelspec": {
   "display_name": "Python 3",
   "language": "python",
   "name": "python3"
  },
  "language_info": {
   "codemirror_mode": {
    "name": "ipython",
    "version": 3
   },
   "file_extension": ".py",
   "mimetype": "text/x-python",
   "name": "python",
   "nbconvert_exporter": "python",
   "pygments_lexer": "ipython3",
   "version": "3.11.9"
  },
  "orig_nbformat": 4,
  "vscode": {
   "interpreter": {
    "hash": "cb7ad110f180b94c43d05a8d958d6170e7bd0d88d6b4d0b75a3d8530f33945cd"
   }
  }
 },
 "nbformat": 4,
 "nbformat_minor": 2
}
